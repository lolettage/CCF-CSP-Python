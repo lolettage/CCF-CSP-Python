{
 "cells": [
  {
   "cell_type": "markdown",
   "metadata": {},
   "source": [
    "# 201312-1  出现次数最多的数"
   ]
  },
  {
   "cell_type": "markdown",
   "metadata": {},
   "source": [
    "<br>时间限制：1.0s \n",
    "<br>内存限制：256.0MB\n",
    "### 问题描述\n",
    "<br>给定n个正整数，找出它们中出现次数最多的数。如果这样的数有多个，请输出其中最小的一个。\n",
    "### 输入格式\n",
    "<br>输入的第一行只有一个正整数n(1 ≤ n ≤ 1000)，表示数字的个数。\n",
    "<br>输入的第二行有n个整数s1, s2, …, sn (1 ≤ si ≤ 10000, 1 ≤ i ≤ n)。相邻的数用空格分隔。\n",
    "### 输出格式\n",
    "<br>输出这n个次数中出现次数最多的数。如果这样的数有多个，输出其中最小的一个。\n",
    "### 样例输入\n",
    "<br>6\n",
    "<br>10 1 10 20 30 20\n",
    "### 样例输出\n",
    "<br>10"
   ]
  },
  {
   "cell_type": "code",
   "execution_count": null,
   "metadata": {},
   "outputs": [],
   "source": [
    "n = int(input())\n",
    "\n",
    "a = list(map(int, input().split()))\n",
    "\n",
    "ids = list(set(a))\n",
    "\n",
    "s = 0\n",
    "\n",
    "b = []\n",
    "\n",
    "zz = [[0 for len in range(2)] for row in range(len(ids))]\n",
    "\n",
    "for i in range(0, len(zz)):\n",
    "    zz[i][0] = ids[i]\n",
    "    \n",
    "for k in range(0, len(zz)):\n",
    "    for j in range(0, n):\n",
    "        if zz[k][0] == a[j]:\n",
    "            s = s + 1\n",
    "    zz[k][1] = s\n",
    "    s = 0\n",
    "        \n",
    "def takeSecond(elem):\n",
    "    return elem[1]\n",
    "\n",
    "zz.sort(key = takeSecond)\n",
    "\n",
    "for l in range(0, len(zz)):\n",
    "    t = zz[-1][1]\n",
    "    if zz[l][1] == t:\n",
    "        b.append(zz[l][0])\n",
    "b.sort()\n",
    "\n",
    "print(b[0])"
   ]
  },
  {
   "cell_type": "code",
   "execution_count": null,
   "metadata": {},
   "outputs": [],
   "source": [
    "n = int(input())\n",
    "\n",
    "a = list(map(int, input().split()))\n",
    "\n",
    "b = a[0]\n",
    "\n",
    "c = a.count(b)\n",
    "\n",
    "while b in a:\n",
    "    a.remove(b)\n",
    "\n",
    "while len(a) != 0:\n",
    "    d = a[0]\n",
    "    e = a.count(d)\n",
    "    if e > c:\n",
    "        b = d\n",
    "        c = e\n",
    "    elif e==c and d < b:\n",
    "        b = d\n",
    "    while d in a:\n",
    "            a.remove(d)\n",
    "\n",
    "print(b)"
   ]
  }
 ],
 "metadata": {
  "kernelspec": {
   "display_name": "Python 3",
   "language": "python",
   "name": "python3"
  },
  "language_info": {
   "codemirror_mode": {
    "name": "ipython",
    "version": 3
   },
   "file_extension": ".py",
   "mimetype": "text/x-python",
   "name": "python",
   "nbconvert_exporter": "python",
   "pygments_lexer": "ipython3",
   "version": "3.6.4"
  }
 },
 "nbformat": 4,
 "nbformat_minor": 2
}
