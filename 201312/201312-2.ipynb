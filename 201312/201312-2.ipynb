{
 "cells": [
  {
   "cell_type": "markdown",
   "metadata": {},
   "source": [
    "# 201312-2 ISBN号码"
   ]
  },
  {
   "cell_type": "markdown",
   "metadata": {},
   "source": [
    "<br>时间限制：1.0s \n",
    "<br>内存限制：256.0MB"
   ]
  },
  {
   "cell_type": "markdown",
   "metadata": {},
   "source": [
    "### 问题描述"
   ]
  },
  {
   "cell_type": "markdown",
   "metadata": {},
   "source": [
    "<br>&nbsp;&nbsp;&nbsp;&nbsp;&nbsp;&nbsp;&nbsp;&nbsp;每一本正式出版的图书都有一个ISBN号码与之对应，ISBN码包括9位数字、1位识别码和3位分隔符，其规定格式如“x-xxx-xxxxx-x”，其中符号“-”是分隔符（键盘上的减号），最后一位是识别码，例如0-670-82162-4就是一个标准的ISBN码。ISBN码的首位数字表示书籍的出版语言，例如0代表英语；第一个分隔符“-”之后的三位数字代表出版社，例如670代表维京出版社；第二个分隔之后的五位数字代表该书在出版社的编号；最后一位为识别码。\n",
    "<br>&nbsp;&nbsp;&nbsp;&nbsp;&nbsp;&nbsp;&nbsp;&nbsp;识别码的计算方法如下：\n",
    "<br>&nbsp;&nbsp;&nbsp;&nbsp;&nbsp;&nbsp;&nbsp;&nbsp;首位数字乘以1加上次位数字乘以2……以此类推，用所得的结果mod 11，所得的余数即为识别码，如果余数为10，则识别码为大写字母X。例如ISBN号码0-670-82162-4中的识别码4是这样得到的：对067082162这9个数字，从左至右，分别乘以1，2，…，9，再求和，即0×1+6×2+……+2×9=158，然后取158 mod 11的结果4作为识别码。\n",
    "<br>&nbsp;&nbsp;&nbsp;&nbsp;&nbsp;&nbsp;&nbsp;&nbsp;编写程序判断输入的ISBN号码中识别码是否正确，如果正确，则仅输出“Right”；如果错误，则输出是正确的ISBN号码。"
   ]
  },
  {
   "cell_type": "markdown",
   "metadata": {},
   "source": [
    "### 输入格式"
   ]
  },
  {
   "cell_type": "markdown",
   "metadata": {},
   "source": [
    "<br>输入只有一行，是一个字符序列，表示一本书的ISBN号码（保证输入符合ISBN号码的格式要求）。"
   ]
  },
  {
   "cell_type": "markdown",
   "metadata": {},
   "source": [
    "### 输出格式"
   ]
  },
  {
   "cell_type": "markdown",
   "metadata": {},
   "source": [
    "<br>输出一行，假如输入的ISBN号码的识别码正确，那么输出“Right”，否则，按照规定的格式，输出正确的ISBN号码（包括分隔符“-”）。"
   ]
  },
  {
   "cell_type": "markdown",
   "metadata": {},
   "source": [
    "### 样例输入"
   ]
  },
  {
   "cell_type": "markdown",
   "metadata": {},
   "source": [
    "<br>0-670-82162-4"
   ]
  },
  {
   "cell_type": "markdown",
   "metadata": {},
   "source": [
    "### 样例输出"
   ]
  },
  {
   "cell_type": "markdown",
   "metadata": {},
   "source": [
    "<br>Right"
   ]
  },
  {
   "cell_type": "markdown",
   "metadata": {},
   "source": [
    "### 样例输入"
   ]
  },
  {
   "cell_type": "markdown",
   "metadata": {},
   "source": [
    "<br>0-670-82162-0"
   ]
  },
  {
   "cell_type": "markdown",
   "metadata": {},
   "source": [
    "### 样例输出"
   ]
  },
  {
   "cell_type": "markdown",
   "metadata": {},
   "source": [
    "<br>0-670-82162-4"
   ]
  },
  {
   "cell_type": "code",
   "execution_count": null,
   "metadata": {},
   "outputs": [],
   "source": [
    "shuru = input()\n",
    "shuru = shuru.replace('-',' ')\n",
    "a= list(shuru.split())\n",
    "s = 0\n",
    "z = 0\n",
    "t = []\n",
    "\n",
    "t.append(int(a[0]))\n",
    "\n",
    "c = 0\n",
    "b = 0\n",
    "n = a[1]\n",
    "while b < len(a[1]):\n",
    "    z = int(n[b])\n",
    "    t.append(z)\n",
    "    b = b + 1\n",
    "    \n",
    "n = a[2]\n",
    "\n",
    "while c < len(a[2]):\n",
    "    z = int(n[c])\n",
    "    t.append(z)\n",
    "    c = c + 1\n",
    "\n",
    "for i in range(0, len(t)):\n",
    "    s = s + t[i] * (i + 1)\n",
    "    \n",
    "z = int(s % 11)\n",
    "if z == 10:\n",
    "    z = 'X'\n",
    "if str(z) == a[3]:\n",
    "    print(\"Right\")\n",
    "else:\n",
    "    print(a[0] + \"-\" + a[1] + \"-\" + a[2] + \"-\" + str(z))"
   ]
  },
  {
   "cell_type": "code",
   "execution_count": null,
   "metadata": {},
   "outputs": [],
   "source": [
    "a = input()\n",
    "\n",
    "b = \"\".join(a.split('-'))\n",
    "\n",
    "c = int()\n",
    "\n",
    "count = 0\n",
    "\n",
    "while count < 9:\n",
    "\n",
    "    c += int(b[count]) * (count + 1)\n",
    "\n",
    "    count += 1\n",
    "\n",
    "d = c % 11\n",
    "\n",
    "if d == 10:\n",
    "\n",
    "    if b[9] == 'X':\n",
    "\n",
    "        print('Right')\n",
    "\n",
    "    else:\n",
    "\n",
    "        print(a[0:12] + 'X')\n",
    "\n",
    "else:\n",
    "\n",
    "    if str(d) == b[9]:\n",
    "\n",
    "        print('Right')\n",
    "\n",
    "    else:\n",
    "\n",
    "        print(a[0:12] + str(d))"
   ]
  }
 ],
 "metadata": {
  "kernelspec": {
   "display_name": "Python 3",
   "language": "python",
   "name": "python3"
  },
  "language_info": {
   "codemirror_mode": {
    "name": "ipython",
    "version": 3
   },
   "file_extension": ".py",
   "mimetype": "text/x-python",
   "name": "python",
   "nbconvert_exporter": "python",
   "pygments_lexer": "ipython3",
   "version": "3.6.4"
  }
 },
 "nbformat": 4,
 "nbformat_minor": 2
}
